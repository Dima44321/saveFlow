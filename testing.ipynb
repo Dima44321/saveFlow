{
 "metadata": {
  "language_info": {
   "codemirror_mode": {
    "name": "ipython",
    "version": 3
   },
   "file_extension": ".py",
   "mimetype": "text/x-python",
   "name": "python",
   "nbconvert_exporter": "python",
   "pygments_lexer": "ipython3",
   "version": "3.8.2-final"
  },
  "orig_nbformat": 2,
  "kernelspec": {
   "name": "Python 3.8.2 64-bit",
   "display_name": "Python 3.8.2 64-bit",
   "metadata": {
    "interpreter": {
     "hash": "03c718ead2b64fbd02cb300752db6af253b8e5824ecaf8a797f4c8de8c4a8305"
    }
   }
  }
 },
 "nbformat": 4,
 "nbformat_minor": 2,
 "cells": [
  {
   "cell_type": "code",
   "execution_count": 100,
   "metadata": {},
   "outputs": [],
   "source": [
    "import os\n",
    "import pygetwindow as gw"
   ]
  },
  {
   "cell_type": "code",
   "execution_count": 101,
   "metadata": {},
   "outputs": [
    {
     "output_type": "execute_result",
     "data": {
      "text/plain": [
       "1"
      ]
     },
     "metadata": {},
     "execution_count": 101
    }
   ],
   "source": [
    "gw.getWindowsWithTitle(\"#general - Discord\")[0].visible"
   ]
  },
  {
   "cell_type": "code",
   "execution_count": 99,
   "metadata": {},
   "outputs": [
    {
     "output_type": "execute_result",
     "data": {
      "text/plain": [
       "['__class__',\n",
       " '__delattr__',\n",
       " '__dict__',\n",
       " '__dir__',\n",
       " '__doc__',\n",
       " '__eq__',\n",
       " '__format__',\n",
       " '__ge__',\n",
       " '__getattribute__',\n",
       " '__gt__',\n",
       " '__hash__',\n",
       " '__init__',\n",
       " '__init_subclass__',\n",
       " '__le__',\n",
       " '__lt__',\n",
       " '__module__',\n",
       " '__ne__',\n",
       " '__new__',\n",
       " '__reduce__',\n",
       " '__reduce_ex__',\n",
       " '__repr__',\n",
       " '__setattr__',\n",
       " '__sizeof__',\n",
       " '__str__',\n",
       " '__subclasshook__',\n",
       " '__weakref__',\n",
       " '_getWindowRect',\n",
       " '_hWnd',\n",
       " '_rect',\n",
       " '_setupRectProperties',\n",
       " 'activate',\n",
       " 'area',\n",
       " 'bottom',\n",
       " 'bottomleft',\n",
       " 'bottomright',\n",
       " 'box',\n",
       " 'center',\n",
       " 'centerx',\n",
       " 'centery',\n",
       " 'close',\n",
       " 'height',\n",
       " 'hide',\n",
       " 'isActive',\n",
       " 'isMaximized',\n",
       " 'isMinimized',\n",
       " 'left',\n",
       " 'maximize',\n",
       " 'midbottom',\n",
       " 'midleft',\n",
       " 'midright',\n",
       " 'midtop',\n",
       " 'minimize',\n",
       " 'move',\n",
       " 'moveRel',\n",
       " 'moveTo',\n",
       " 'resize',\n",
       " 'resizeRel',\n",
       " 'resizeTo',\n",
       " 'restore',\n",
       " 'right',\n",
       " 'show',\n",
       " 'size',\n",
       " 'title',\n",
       " 'top',\n",
       " 'topleft',\n",
       " 'topright',\n",
       " 'visible',\n",
       " 'width']"
      ]
     },
     "metadata": {},
     "execution_count": 99
    }
   ],
   "source": [
    "dir(gw.getActiveWindow())"
   ]
  },
  {
   "cell_type": "code",
   "execution_count": 19,
   "metadata": {},
   "outputs": [],
   "source": [
    "gw.getActiveWindow().minimize()"
   ]
  },
  {
   "cell_type": "code",
   "execution_count": 28,
   "metadata": {},
   "outputs": [
    {
     "output_type": "error",
     "ename": "IndexError",
     "evalue": "list index out of range",
     "traceback": [
      "\u001b[1;31m---------------------------------------------------------------------------\u001b[0m",
      "\u001b[1;31mIndexError\u001b[0m                                Traceback (most recent call last)",
      "\u001b[1;32m<ipython-input-28-82aedc73e9ad>\u001b[0m in \u001b[0;36m<module>\u001b[1;34m\u001b[0m\n\u001b[1;32m----> 1\u001b[1;33m \u001b[0mgw\u001b[0m\u001b[1;33m.\u001b[0m\u001b[0mgetWindowsAt\u001b[0m\u001b[1;33m(\u001b[0m\u001b[1;36m0\u001b[0m\u001b[1;33m,\u001b[0m\u001b[1;36m0\u001b[0m\u001b[1;33m)\u001b[0m\u001b[1;33m[\u001b[0m\u001b[1;36m0\u001b[0m\u001b[1;33m]\u001b[0m\u001b[1;33m.\u001b[0m\u001b[0mminimize\u001b[0m\u001b[1;33m(\u001b[0m\u001b[1;33m)\u001b[0m\u001b[1;33m\u001b[0m\u001b[1;33m\u001b[0m\u001b[0m\n\u001b[0m",
      "\u001b[1;31mIndexError\u001b[0m: list index out of range"
     ]
    }
   ],
   "source": [
    "gw.getWindowsAt(0,0)[0].minimize()"
   ]
  },
  {
   "cell_type": "code",
   "execution_count": 31,
   "metadata": {},
   "outputs": [
    {
     "output_type": "stream",
     "name": "stdout",
     "text": [
      "Collecting pywinauto\n",
      "  Downloading pywinauto-0.6.8-py2.py3-none-any.whl (362 kB)\n",
      "Requirement already satisfied: six in c:\\users\\15055\\anaconda3\\envs\\pygame\\lib\\site-packages (from pywinauto) (1.14.0)\n",
      "Collecting comtypes\n",
      "  Downloading comtypes-1.1.7.zip (180 kB)\n",
      "Requirement already satisfied: pywin32 in c:\\users\\15055\\anaconda3\\envs\\pygame\\lib\\site-packages (from pywinauto) (227)\n",
      "Building wheels for collected packages: comtypes\n",
      "WARNING: You are using pip version 20.1; however, version 20.2.3 is available.\n",
      "You should consider upgrading via the 'c:\\users\\15055\\anaconda3\\envs\\pygame\\python.exe -m pip install --upgrade pip' command.\n",
      "  Building wheel for comtypes (setup.py): started\n",
      "  Building wheel for comtypes (setup.py): finished with status 'done'\n",
      "  Created wheel for comtypes: filename=comtypes-1.1.7-py3-none-any.whl size=164608 sha256=a742d7755e2d7c1f1d2607966696562728777328de9beecac114dfe173555f89\n",
      "  Stored in directory: c:\\users\\15055\\appdata\\local\\pip\\cache\\wheels\\01\\85\\0a\\c0084d91f59e28d21c18fb060ee5a80100fee0e4359c75ce05\n",
      "Successfully built comtypes\n",
      "Installing collected packages: comtypes, pywinauto\n",
      "Successfully installed comtypes-1.1.7 pywinauto-0.6.8\n"
     ]
    }
   ],
   "source": [
    "!pip install pywinauto"
   ]
  },
  {
   "cell_type": "code",
   "execution_count": 39,
   "metadata": {},
   "outputs": [
    {
     "output_type": "execute_result",
     "data": {
      "text/plain": [
       "['_BaseWrapper__repr_texts',\n",
       " '__abstractmethods__',\n",
       " '__class__',\n",
       " '__delattr__',\n",
       " '__dict__',\n",
       " '__dir__',\n",
       " '__doc__',\n",
       " '__eq__',\n",
       " '__format__',\n",
       " '__ge__',\n",
       " '__getattribute__',\n",
       " '__gt__',\n",
       " '__hash__',\n",
       " '__init__',\n",
       " '__init_subclass__',\n",
       " '__le__',\n",
       " '__lt__',\n",
       " '__module__',\n",
       " '__ne__',\n",
       " '__new__',\n",
       " '__reduce__',\n",
       " '__reduce_ex__',\n",
       " '__repr__',\n",
       " '__setattr__',\n",
       " '__sizeof__',\n",
       " '__str__',\n",
       " '__subclasshook__',\n",
       " '__weakref__',\n",
       " '_abc_impl',\n",
       " '_as_parameter_',\n",
       " '_cache',\n",
       " '_calc_click_coords',\n",
       " '_control_types',\n",
       " '_create_wrapper',\n",
       " '_element_info',\n",
       " '_needs_image_prop',\n",
       " '_scroll_types',\n",
       " '_select',\n",
       " '_texts_from_item_container',\n",
       " 'actions',\n",
       " 'appdata',\n",
       " 'automation_id',\n",
       " 'backend',\n",
       " 'can_be_label',\n",
       " 'can_select_multiple',\n",
       " 'capture_as_image',\n",
       " 'children',\n",
       " 'children_texts',\n",
       " 'class_name',\n",
       " 'click_input',\n",
       " 'client_to_screen',\n",
       " 'close',\n",
       " 'collapse',\n",
       " 'control_count',\n",
       " 'control_id',\n",
       " 'descendants',\n",
       " 'double_click_input',\n",
       " 'drag_mouse_input',\n",
       " 'draw_outline',\n",
       " 'element_info',\n",
       " 'expand',\n",
       " 'friendly_class_name',\n",
       " 'friendlyclassname',\n",
       " 'from_point',\n",
       " 'get_expand_state',\n",
       " 'get_properties',\n",
       " 'get_selection',\n",
       " 'get_show_state',\n",
       " 'handle',\n",
       " 'has_keyboard_focus',\n",
       " 'has_title',\n",
       " 'iface_expand_collapse',\n",
       " 'iface_grid',\n",
       " 'iface_grid_item',\n",
       " 'iface_invoke',\n",
       " 'iface_item_container',\n",
       " 'iface_range_value',\n",
       " 'iface_scroll',\n",
       " 'iface_scroll_item',\n",
       " 'iface_selection',\n",
       " 'iface_selection_item',\n",
       " 'iface_table',\n",
       " 'iface_table_item',\n",
       " 'iface_text',\n",
       " 'iface_toggle',\n",
       " 'iface_transform',\n",
       " 'iface_transformV2',\n",
       " 'iface_value',\n",
       " 'iface_virtualized_item',\n",
       " 'iface_window',\n",
       " 'invoke',\n",
       " 'is_active',\n",
       " 'is_child',\n",
       " 'is_collapsed',\n",
       " 'is_dialog',\n",
       " 'is_enabled',\n",
       " 'is_expanded',\n",
       " 'is_keyboard_focusable',\n",
       " 'is_maximized',\n",
       " 'is_minimized',\n",
       " 'is_normal',\n",
       " 'is_selected',\n",
       " 'is_selection_required',\n",
       " 'is_visible',\n",
       " 'iter_children',\n",
       " 'iter_descendants',\n",
       " 'legacy_properties',\n",
       " 'maximize',\n",
       " 'menu_select',\n",
       " 'minimize',\n",
       " 'move_mouse_input',\n",
       " 'parent',\n",
       " 'press_mouse_input',\n",
       " 'process_id',\n",
       " 'rectangle',\n",
       " 'ref',\n",
       " 'release_mouse_input',\n",
       " 'restore',\n",
       " 'right_click_input',\n",
       " 'root',\n",
       " 'scroll',\n",
       " 'select',\n",
       " 'selected_item_index',\n",
       " 'set_focus',\n",
       " 'texts',\n",
       " 'top_from_point',\n",
       " 'top_level_parent',\n",
       " 'type_keys',\n",
       " 'verify_actionable',\n",
       " 'verify_enabled',\n",
       " 'verify_visible',\n",
       " 'wait_for_idle',\n",
       " 'was_maximized',\n",
       " 'wheel_mouse_input',\n",
       " 'window_text',\n",
       " 'windowclasses',\n",
       " 'writable_props']"
      ]
     },
     "metadata": {},
     "execution_count": 39
    }
   ],
   "source": [
    "dir(windows[0])"
   ]
  },
  {
   "cell_type": "code",
   "execution_count": 133,
   "metadata": {},
   "outputs": [
    {
     "output_type": "execute_result",
     "data": {
      "text/plain": [
       "array([<uiawrapper.UIAWrapper - 'Taskbar', Pane, 4644813004092348329>,\n",
       "       <uiawrapper.UIAWrapper - '', Pane, -8430933368698207102>,\n",
       "       <uiawrapper.UIAWrapper - 'testing.ipynb* - saveDir - Visual Studio Code', Pane, 5967773605745019669>,\n",
       "       <uiawrapper.UIAWrapper - 'numpy.invert — NumPy v1.19 Manual - Google Chrome', Pane, -2010120673558498050>,\n",
       "       <uiawrapper.UIAWrapper - 'NVIDIA GeForce Overlay', Pane, -8100134163580248026>,\n",
       "       <uia_controls.ListViewWrapper - '', ListBox, -3492566975630257890>,\n",
       "       <uiawrapper.UIAWrapper - 'Program Manager', Pane, -9061550462113499211>],\n",
       "      dtype=object)"
      ]
     },
     "metadata": {},
     "execution_count": 133
    }
   ],
   "source": [
    "windows = np.array(Desktop(backend=\"uia\").windows())\n",
    "#windows.remove(\"\")\n",
    "windows"
   ]
  },
  {
   "cell_type": "code",
   "execution_count": 135,
   "metadata": {},
   "outputs": [
    {
     "output_type": "execute_result",
     "data": {
      "text/plain": [
       "array([<uiawrapper.UIAWrapper - 'Taskbar', Pane, 4644813004092348329>,\n",
       "       <uiawrapper.UIAWrapper - 'testing.ipynb* - saveDir - Visual Studio Code', Pane, 5967773605745019669>,\n",
       "       <uiawrapper.UIAWrapper - 'numpy.invert — NumPy v1.19 Manual - Google Chrome', Pane, -2010120673558498050>,\n",
       "       <uiawrapper.UIAWrapper - 'NVIDIA GeForce Overlay', Pane, -8100134163580248026>,\n",
       "       <uiawrapper.UIAWrapper - 'Program Manager', Pane, -9061550462113499211>],\n",
       "      dtype=object)"
      ]
     },
     "metadata": {},
     "execution_count": 135
    }
   ],
   "source": [
    "fname = 'ignoredWindows.txt'\n",
    "with open(fname) as f:\n",
    "    ignored_win_names = []\n",
    "    for line in f:\n",
    "        ignored_win_names.append(line.replace('\\n',''))\n",
    "\n",
    "for name in ignored_win_names:\n",
    "    ignored_windows = np.array([w.window_text() == name for w in windows])\n",
    "#add ignored windows text file\n",
    "windows = windows[np.logical_not(ignored_windows)]\n",
    "windows"
   ]
  },
  {
   "cell_type": "code",
   "execution_count": null,
   "metadata": {},
   "outputs": [],
   "source": []
  }
 ]
}